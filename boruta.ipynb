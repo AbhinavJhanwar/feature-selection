{
 "cells": [
  {
   "cell_type": "code",
   "execution_count": 26,
   "metadata": {},
   "outputs": [],
   "source": [
    "import pandas as pd\n",
    "from boruta import BorutaPy\n",
    "from sklearn.ensemble import RandomForestRegressor, RandomForestClassifier"
   ]
  },
  {
   "cell_type": "markdown",
   "metadata": {},
   "source": [
    "# FOR REGRESSION"
   ]
  },
  {
   "cell_type": "code",
   "execution_count": 74,
   "metadata": {},
   "outputs": [
    {
     "data": {
      "text/html": [
       "<div>\n",
       "<style scoped>\n",
       "    .dataframe tbody tr th:only-of-type {\n",
       "        vertical-align: middle;\n",
       "    }\n",
       "\n",
       "    .dataframe tbody tr th {\n",
       "        vertical-align: top;\n",
       "    }\n",
       "\n",
       "    .dataframe thead th {\n",
       "        text-align: right;\n",
       "    }\n",
       "</style>\n",
       "<table border=\"1\" class=\"dataframe\">\n",
       "  <thead>\n",
       "    <tr style=\"text-align: right;\">\n",
       "      <th></th>\n",
       "      <th>per_capita_crime_rate</th>\n",
       "      <th>proportion_of_residential_land_over_25000_sq.ft.</th>\n",
       "      <th>proportion_of_non-retail_business_acres_per_town</th>\n",
       "      <th>Charles_River_dummy_variable_(1_if_tract_bounds_river;_0_otherwise)</th>\n",
       "      <th>nitric_oxides_concentration_(parts_per_10_million)</th>\n",
       "      <th>average_number_of_rooms_per_dwelling</th>\n",
       "      <th>proportion_of_owner-occupied_units_built_prior_to_1940</th>\n",
       "      <th>weighted_distances_to_five_Boston_employment_centres</th>\n",
       "      <th>index_of_accessibility_to_radial_highways</th>\n",
       "      <th>full-value_property-tax_rate_per_$10000</th>\n",
       "      <th>pupil-teacher_ratio_by_town</th>\n",
       "      <th>1000(Bk _0.63)^2_where_Bk_is_the_proportion_of_blacks_by_town</th>\n",
       "      <th>%_lower_status_population</th>\n",
       "      <th>Median_House_Price</th>\n",
       "    </tr>\n",
       "  </thead>\n",
       "  <tbody>\n",
       "    <tr>\n",
       "      <th>0</th>\n",
       "      <td>0.00632</td>\n",
       "      <td>18.0</td>\n",
       "      <td>2.31</td>\n",
       "      <td>0.0</td>\n",
       "      <td>0.538</td>\n",
       "      <td>6.575</td>\n",
       "      <td>65.2</td>\n",
       "      <td>4.0900</td>\n",
       "      <td>1.0</td>\n",
       "      <td>296.0</td>\n",
       "      <td>15.3</td>\n",
       "      <td>396.90</td>\n",
       "      <td>4.98</td>\n",
       "      <td>24.0</td>\n",
       "    </tr>\n",
       "    <tr>\n",
       "      <th>1</th>\n",
       "      <td>0.02731</td>\n",
       "      <td>0.0</td>\n",
       "      <td>7.07</td>\n",
       "      <td>0.0</td>\n",
       "      <td>0.469</td>\n",
       "      <td>6.421</td>\n",
       "      <td>78.9</td>\n",
       "      <td>4.9671</td>\n",
       "      <td>2.0</td>\n",
       "      <td>242.0</td>\n",
       "      <td>17.8</td>\n",
       "      <td>396.90</td>\n",
       "      <td>9.14</td>\n",
       "      <td>21.6</td>\n",
       "    </tr>\n",
       "    <tr>\n",
       "      <th>3</th>\n",
       "      <td>0.03237</td>\n",
       "      <td>0.0</td>\n",
       "      <td>2.18</td>\n",
       "      <td>0.0</td>\n",
       "      <td>0.458</td>\n",
       "      <td>6.998</td>\n",
       "      <td>45.8</td>\n",
       "      <td>6.0622</td>\n",
       "      <td>3.0</td>\n",
       "      <td>222.0</td>\n",
       "      <td>18.7</td>\n",
       "      <td>394.63</td>\n",
       "      <td>2.94</td>\n",
       "      <td>33.4</td>\n",
       "    </tr>\n",
       "    <tr>\n",
       "      <th>4</th>\n",
       "      <td>0.06905</td>\n",
       "      <td>0.0</td>\n",
       "      <td>2.18</td>\n",
       "      <td>0.0</td>\n",
       "      <td>0.458</td>\n",
       "      <td>7.147</td>\n",
       "      <td>54.2</td>\n",
       "      <td>6.0622</td>\n",
       "      <td>3.0</td>\n",
       "      <td>222.0</td>\n",
       "      <td>18.7</td>\n",
       "      <td>396.90</td>\n",
       "      <td>5.33</td>\n",
       "      <td>36.2</td>\n",
       "    </tr>\n",
       "    <tr>\n",
       "      <th>6</th>\n",
       "      <td>0.08829</td>\n",
       "      <td>12.5</td>\n",
       "      <td>7.87</td>\n",
       "      <td>0.0</td>\n",
       "      <td>0.524</td>\n",
       "      <td>6.012</td>\n",
       "      <td>66.6</td>\n",
       "      <td>5.5605</td>\n",
       "      <td>5.0</td>\n",
       "      <td>311.0</td>\n",
       "      <td>15.2</td>\n",
       "      <td>395.60</td>\n",
       "      <td>12.43</td>\n",
       "      <td>22.9</td>\n",
       "    </tr>\n",
       "  </tbody>\n",
       "</table>\n",
       "</div>"
      ],
      "text/plain": [
       "   per_capita_crime_rate  proportion_of_residential_land_over_25000_sq.ft.  \\\n",
       "0                0.00632                                              18.0   \n",
       "1                0.02731                                               0.0   \n",
       "3                0.03237                                               0.0   \n",
       "4                0.06905                                               0.0   \n",
       "6                0.08829                                              12.5   \n",
       "\n",
       "   proportion_of_non-retail_business_acres_per_town  \\\n",
       "0                                              2.31   \n",
       "1                                              7.07   \n",
       "3                                              2.18   \n",
       "4                                              2.18   \n",
       "6                                              7.87   \n",
       "\n",
       "   Charles_River_dummy_variable_(1_if_tract_bounds_river;_0_otherwise)  \\\n",
       "0                                                0.0                     \n",
       "1                                                0.0                     \n",
       "3                                                0.0                     \n",
       "4                                                0.0                     \n",
       "6                                                0.0                     \n",
       "\n",
       "   nitric_oxides_concentration_(parts_per_10_million)  \\\n",
       "0                                              0.538    \n",
       "1                                              0.469    \n",
       "3                                              0.458    \n",
       "4                                              0.458    \n",
       "6                                              0.524    \n",
       "\n",
       "   average_number_of_rooms_per_dwelling  \\\n",
       "0                                 6.575   \n",
       "1                                 6.421   \n",
       "3                                 6.998   \n",
       "4                                 7.147   \n",
       "6                                 6.012   \n",
       "\n",
       "   proportion_of_owner-occupied_units_built_prior_to_1940  \\\n",
       "0                                               65.2        \n",
       "1                                               78.9        \n",
       "3                                               45.8        \n",
       "4                                               54.2        \n",
       "6                                               66.6        \n",
       "\n",
       "   weighted_distances_to_five_Boston_employment_centres  \\\n",
       "0                                             4.0900      \n",
       "1                                             4.9671      \n",
       "3                                             6.0622      \n",
       "4                                             6.0622      \n",
       "6                                             5.5605      \n",
       "\n",
       "   index_of_accessibility_to_radial_highways  \\\n",
       "0                                        1.0   \n",
       "1                                        2.0   \n",
       "3                                        3.0   \n",
       "4                                        3.0   \n",
       "6                                        5.0   \n",
       "\n",
       "   full-value_property-tax_rate_per_$10000  pupil-teacher_ratio_by_town  \\\n",
       "0                                    296.0                         15.3   \n",
       "1                                    242.0                         17.8   \n",
       "3                                    222.0                         18.7   \n",
       "4                                    222.0                         18.7   \n",
       "6                                    311.0                         15.2   \n",
       "\n",
       "   1000(Bk _0.63)^2_where_Bk_is_the_proportion_of_blacks_by_town  \\\n",
       "0                                             396.90               \n",
       "1                                             396.90               \n",
       "3                                             394.63               \n",
       "4                                             396.90               \n",
       "6                                             395.60               \n",
       "\n",
       "   %_lower_status_population  Median_House_Price  \n",
       "0                       4.98                24.0  \n",
       "1                       9.14                21.6  \n",
       "3                       2.94                33.4  \n",
       "4                       5.33                36.2  \n",
       "6                      12.43                22.9  "
      ]
     },
     "execution_count": 74,
     "metadata": {},
     "output_type": "execute_result"
    }
   ],
   "source": [
    "data = pd.read_csv('data/housing.csv')\n",
    "data.dropna(inplace=True)\n",
    "data.head()"
   ]
  },
  {
   "cell_type": "code",
   "execution_count": 75,
   "metadata": {},
   "outputs": [],
   "source": [
    "target = 'Median_House_Price'"
   ]
  },
  {
   "cell_type": "code",
   "execution_count": 76,
   "metadata": {},
   "outputs": [],
   "source": [
    "forest = RandomForestRegressor(\n",
    "   n_jobs = -1, \n",
    "   max_depth = 5\n",
    ")\n",
    "\n",
    "boruta = BorutaPy(\n",
    "   estimator = forest, \n",
    "   n_estimators = 'auto',\n",
    "   max_iter = 100 # number of trials to perform\n",
    ")"
   ]
  },
  {
   "cell_type": "markdown",
   "metadata": {},
   "source": [
    "# fit boruta"
   ]
  },
  {
   "cell_type": "code",
   "execution_count": 85,
   "metadata": {
    "scrolled": true
   },
   "outputs": [
    {
     "name": "stdout",
     "output_type": "stream",
     "text": [
      "Wall time: 27.3 s\n"
     ]
    }
   ],
   "source": [
    "%%time\n",
    "model = boruta.fit(data[[column for column in data.columns if column!=target]].values, data[[target]].values.ravel())"
   ]
  },
  {
   "cell_type": "markdown",
   "metadata": {},
   "source": [
    "# results"
   ]
  },
  {
   "cell_type": "code",
   "execution_count": 86,
   "metadata": {},
   "outputs": [
    {
     "data": {
      "text/plain": [
       "(array([1, 5, 3, 5, 1, 1, 1, 1, 4, 1, 1, 2, 1]),\n",
       " ['per_capita_crime_rate',\n",
       "  'proportion_of_residential_land_over_25000_sq.ft.',\n",
       "  'proportion_of_non-retail_business_acres_per_town',\n",
       "  'Charles_River_dummy_variable_(1_if_tract_bounds_river;_0_otherwise)',\n",
       "  'nitric_oxides_concentration_(parts_per_10_million)',\n",
       "  'average_number_of_rooms_per_dwelling',\n",
       "  'proportion_of_owner-occupied_units_built_prior_to_1940',\n",
       "  'weighted_distances_to_five_Boston_employment_centres',\n",
       "  'index_of_accessibility_to_radial_highways',\n",
       "  'full-value_property-tax_rate_per_$10000',\n",
       "  'pupil-teacher_ratio_by_town',\n",
       "  '1000(Bk _0.63)^2_where_Bk_is_the_proportion_of_blacks_by_town',\n",
       "  '%_lower_status_population',\n",
       "  'Median_House_Price'])"
      ]
     },
     "execution_count": 86,
     "metadata": {},
     "output_type": "execute_result"
    }
   ],
   "source": [
    "model.ranking_, data.columns.values.tolist()"
   ]
  },
  {
   "cell_type": "code",
   "execution_count": 87,
   "metadata": {},
   "outputs": [
    {
     "name": "stdout",
     "output_type": "stream",
     "text": [
      "features in the green area: ['per_capita_crime_rate', 'nitric_oxides_concentration_(parts_per_10_million)', 'average_number_of_rooms_per_dwelling', 'proportion_of_owner-occupied_units_built_prior_to_1940', 'weighted_distances_to_five_Boston_employment_centres', 'full-value_property-tax_rate_per_$10000', 'pupil-teacher_ratio_by_town', '%_lower_status_population']\n",
      "\n",
      "features in the blue area: ['1000(Bk _0.63)^2_where_Bk_is_the_proportion_of_blacks_by_town']\n"
     ]
    }
   ],
   "source": [
    "green_area = data[[column for column in data.columns if column!=target]].columns[boruta.support_].to_list()\n",
    "blue_area = data[[column for column in data.columns if column!=target]].columns[boruta.support_weak_].to_list()\n",
    "print('features in the green area:', green_area)\n",
    "print('\\nfeatures in the blue area:', blue_area)"
   ]
  },
  {
   "cell_type": "markdown",
   "metadata": {},
   "source": [
    "# FOR CLASSIFICATION"
   ]
  },
  {
   "cell_type": "code",
   "execution_count": 88,
   "metadata": {},
   "outputs": [
    {
     "data": {
      "text/html": [
       "<div>\n",
       "<style scoped>\n",
       "    .dataframe tbody tr th:only-of-type {\n",
       "        vertical-align: middle;\n",
       "    }\n",
       "\n",
       "    .dataframe tbody tr th {\n",
       "        vertical-align: top;\n",
       "    }\n",
       "\n",
       "    .dataframe thead th {\n",
       "        text-align: right;\n",
       "    }\n",
       "</style>\n",
       "<table border=\"1\" class=\"dataframe\">\n",
       "  <thead>\n",
       "    <tr style=\"text-align: right;\">\n",
       "      <th></th>\n",
       "      <th>sepal-length</th>\n",
       "      <th>sepal-width</th>\n",
       "      <th>petal-length</th>\n",
       "      <th>petal-width</th>\n",
       "      <th>class</th>\n",
       "    </tr>\n",
       "  </thead>\n",
       "  <tbody>\n",
       "    <tr>\n",
       "      <th>0</th>\n",
       "      <td>5.1</td>\n",
       "      <td>3.5</td>\n",
       "      <td>1.4</td>\n",
       "      <td>0.2</td>\n",
       "      <td>Iris-setosa</td>\n",
       "    </tr>\n",
       "    <tr>\n",
       "      <th>1</th>\n",
       "      <td>4.9</td>\n",
       "      <td>3.0</td>\n",
       "      <td>1.4</td>\n",
       "      <td>0.2</td>\n",
       "      <td>Iris-setosa</td>\n",
       "    </tr>\n",
       "    <tr>\n",
       "      <th>2</th>\n",
       "      <td>4.7</td>\n",
       "      <td>3.2</td>\n",
       "      <td>1.3</td>\n",
       "      <td>0.2</td>\n",
       "      <td>Iris-setosa</td>\n",
       "    </tr>\n",
       "    <tr>\n",
       "      <th>3</th>\n",
       "      <td>4.6</td>\n",
       "      <td>3.1</td>\n",
       "      <td>1.5</td>\n",
       "      <td>0.2</td>\n",
       "      <td>Iris-setosa</td>\n",
       "    </tr>\n",
       "    <tr>\n",
       "      <th>4</th>\n",
       "      <td>5.0</td>\n",
       "      <td>3.6</td>\n",
       "      <td>1.4</td>\n",
       "      <td>0.2</td>\n",
       "      <td>Iris-setosa</td>\n",
       "    </tr>\n",
       "  </tbody>\n",
       "</table>\n",
       "</div>"
      ],
      "text/plain": [
       "   sepal-length  sepal-width  petal-length  petal-width        class\n",
       "0           5.1          3.5           1.4          0.2  Iris-setosa\n",
       "1           4.9          3.0           1.4          0.2  Iris-setosa\n",
       "2           4.7          3.2           1.3          0.2  Iris-setosa\n",
       "3           4.6          3.1           1.5          0.2  Iris-setosa\n",
       "4           5.0          3.6           1.4          0.2  Iris-setosa"
      ]
     },
     "execution_count": 88,
     "metadata": {},
     "output_type": "execute_result"
    }
   ],
   "source": [
    "data = pd.read_csv('data/iris_data.csv')\n",
    "data.dropna(inplace=True)\n",
    "data.head()"
   ]
  },
  {
   "cell_type": "code",
   "execution_count": 89,
   "metadata": {},
   "outputs": [],
   "source": [
    "target = 'class'"
   ]
  },
  {
   "cell_type": "code",
   "execution_count": 90,
   "metadata": {},
   "outputs": [],
   "source": [
    "forest = RandomForestClassifier(\n",
    "   n_jobs = -1, \n",
    "   max_depth = 5\n",
    ")\n",
    "\n",
    "boruta = BorutaPy(\n",
    "   estimator = forest, \n",
    "   n_estimators = 'auto',\n",
    "   max_iter = 100 # number of trials to perform\n",
    ")"
   ]
  },
  {
   "cell_type": "markdown",
   "metadata": {},
   "source": [
    "# fit boruta"
   ]
  },
  {
   "cell_type": "code",
   "execution_count": 91,
   "metadata": {},
   "outputs": [
    {
     "name": "stdout",
     "output_type": "stream",
     "text": [
      "Wall time: 1.97 s\n"
     ]
    }
   ],
   "source": [
    "%%time\n",
    "model = boruta.fit(data[[column for column in data.columns if column!=target]].values, data[[target]].values.ravel())"
   ]
  },
  {
   "cell_type": "markdown",
   "metadata": {},
   "source": [
    "# results"
   ]
  },
  {
   "cell_type": "code",
   "execution_count": 92,
   "metadata": {},
   "outputs": [
    {
     "data": {
      "text/plain": [
       "(array([1, 1, 1, 1]),\n",
       " ['sepal-length', 'sepal-width', 'petal-length', 'petal-width', 'class'])"
      ]
     },
     "execution_count": 92,
     "metadata": {},
     "output_type": "execute_result"
    }
   ],
   "source": [
    "model.ranking_, data.columns.values.tolist()"
   ]
  },
  {
   "cell_type": "code",
   "execution_count": 93,
   "metadata": {},
   "outputs": [
    {
     "name": "stdout",
     "output_type": "stream",
     "text": [
      "features in the green area: ['sepal-length', 'sepal-width', 'petal-length', 'petal-width']\n",
      "\n",
      "features in the blue area: []\n"
     ]
    }
   ],
   "source": [
    "green_area = data[[column for column in data.columns if column!=target]].columns[boruta.support_].to_list()\n",
    "blue_area = data[[column for column in data.columns if column!=target]].columns[boruta.support_weak_].to_list()\n",
    "print('features in the green area:', green_area)\n",
    "print('\\nfeatures in the blue area:', blue_area)"
   ]
  },
  {
   "cell_type": "code",
   "execution_count": null,
   "metadata": {},
   "outputs": [],
   "source": []
  }
 ],
 "metadata": {
  "kernelspec": {
   "display_name": "Python 3",
   "language": "python",
   "name": "python3"
  },
  "language_info": {
   "codemirror_mode": {
    "name": "ipython",
    "version": 3
   },
   "file_extension": ".py",
   "mimetype": "text/x-python",
   "name": "python",
   "nbconvert_exporter": "python",
   "pygments_lexer": "ipython3",
   "version": "3.6.10"
  }
 },
 "nbformat": 4,
 "nbformat_minor": 4
}
